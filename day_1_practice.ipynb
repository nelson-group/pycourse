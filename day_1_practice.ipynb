{
 "cells": [
  {
   "cell_type": "markdown",
   "metadata": {},
   "source": [
    "# Day 1 Practice Problem - Cryptography"
   ]
  },
  {
   "cell_type": "markdown",
   "metadata": {
    "tags": []
   },
   "source": [
    "Cryptography is the study of encrypting information, and conversely, how to decrypt previously encrypted information. For example, to enable secret messages to be passed between two parties.\n",
    "\n",
    "An ancient and simple encryption technique is the [Caesar Cipher](http://en.wikipedia.org/wiki/Caesar_cipher). In this cipher, each single letter is replaced by a different letter, which is a certain number of letters away in the alphabet. This is called the `shift`.\n",
    "\n",
    "For example, if the shift is 2, then A would become C, B would become D, and so on (Z will become B, i.e. the shift wraps around the end of the alphabet). A positive shift corresponds to encryption, while a negative shift (of the same value) corresponds to decryption.\n",
    "\n",
    "### Assignment\n",
    "\n",
    "Write a function `encrypt()` that, given a string and a shift, produces the encrypted string for that shift.\n",
    "\n",
    "Then, write a second function `decrypt()` that does the opposite. Hint: The `decrypt()` function should only be one line long, because it can call the existing encryption function.\n",
    "\n",
    "### Task A\n",
    "\n",
    "Decrypt the following message, which was encrypted with a shift of 13:\n",
    "    \n",
    "    pbatenghyngvbaf lbh unir fhpprrqrq va qrpelcgvat gur fgevat\n",
    "    \n",
    "### Task B\n",
    "    \n",
    "Decrypt the following message, where the shift is unknown.\n",
    "    \n",
    "    gwc uivioml bw nqvl bpm zqopb apqnb\n",
    "    \n",
    "    \n",
    "### Hints\n",
    "\n",
    "1. Assume that we are dealing only with lowercase letters.\n",
    "2. Spaces should remain spaces.\n",
    "3. There are several ways you can convert between letters and numbers. \n",
    "    * You could use the built-in functions [chr()](https://docs.python.org/3/library/functions.html#chr) and its complement [ord()](https://docs.python.org/3/library/functions.html#ord).\n",
    "    * You could write the alphabet as a string, and use index access (e.g. `alphabet[3] == 'D'`) to convert from numbers to letters, and the `.index()` method to convert from letters to numbers."
   ]
  },
  {
   "cell_type": "markdown",
   "metadata": {},
   "source": [
    "# Solution:"
   ]
  },
  {
   "cell_type": "code",
   "execution_count": null,
   "metadata": {},
   "outputs": [],
   "source": []
  }
 ],
 "metadata": {
  "kernelspec": {
   "display_name": "Python 3",
   "language": "python",
   "name": "python3"
  },
  "language_info": {
   "codemirror_mode": {
    "name": "ipython",
    "version": 3
   },
   "file_extension": ".py",
   "mimetype": "text/x-python",
   "name": "python",
   "nbconvert_exporter": "python",
   "pygments_lexer": "ipython3",
   "version": "3.8.5"
  }
 },
 "nbformat": 4,
 "nbformat_minor": 4
}
