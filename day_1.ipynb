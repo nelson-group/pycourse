{
 "cells": [
  {
   "cell_type": "markdown",
   "metadata": {},
   "source": [
    "# Python Programming for Scientists - Day 1"
   ]
  },
  {
   "cell_type": "markdown",
   "metadata": {
    "tags": []
   },
   "source": [
    "In the first day we will get familiar with the basics of the Python programming language."
   ]
  },
  {
   "cell_type": "markdown",
   "metadata": {},
   "source": [
    "# Getting set up\n",
    "First, we will get set up with a working Python \"envirnonment\".\n",
    "\n",
    "For this entire course we will use a remote JupyterLab instance - this means that we will connect to a server through a web browser, and all code will be developed, run, and saved there.\n",
    "\n",
    "Start up a web browser (either on your own laptop, or on a CIP computer), and type in the following URL:\n",
    "\n",
    "* <https://jupyter.kip.uni-heidelberg.de>\n",
    "    \n",
    "You then need to log in with your usual University ID (\"URZ account\").\n",
    "\n",
    "> Note: at some other point, if you want to run a JupyterLab instance on your own computer, the typical way is to open a shell (or terminal), go to the folder containing your work and notebooks, and type `jupyter lab`.\n",
    ">\n",
    "> If your personal computer does not have python or jupyterlab installed, a good solution is to download and install [MiniConda](https://docs.conda.io/en/latest/miniconda.html)."
   ]
  },
  {
   "cell_type": "markdown",
   "metadata": {
    "tags": []
   },
   "source": [
    "## Three ways to run python code"
   ]
  },
  {
   "cell_type": "markdown",
   "metadata": {},
   "source": [
    "In general there are three ways to develop and run python programs:\n",
    "1. In the terminal, using the `python` command-line interpreter (or better yet, with the `ipython` interface).\n",
    "2. In a stand-alone script (a file with the `.py` extension).\n",
    "3. In a Jupyter \"notebook\" (a file with the `.ipynb` extension).\n",
    "\n",
    "We will see all three in this course. You can always use whatever is most convenient.\n",
    "\n",
    "> Note: if you have never used, or heard of, Linux, or worked \"at the command line\" (instead of within a graphical operating system like Windows or Mac OSX), then please go through the [Command Line Tutorial for Beginners](https://ubuntu.com/tutorials/command-line-for-beginners)."
   ]
  },
  {
   "cell_type": "markdown",
   "metadata": {},
   "source": [
    "### 1. Command-line python"
   ]
  },
  {
   "cell_type": "markdown",
   "metadata": {},
   "source": [
    "To run Python code interactively, one can use the standard Python prompt, which can be launched by typing ``python`` in your standard shell:\n",
    "\n",
    "    $ python\n",
    "    Python 3.7.3 (default, Jan 22 2021, 20:04:44) \n",
    "    [GCC 8.3.0] on linux\n",
    "    Type \"help\", \"copyright\", \"credits\" or \"license\" for more information.\n",
    "    >>>\n",
    "\n",
    "The ``>>>`` indicates that Python is ready to accept commands. If you type ``a = 1`` then press enter, this will assign the value ``1`` to ``a``. If you then type ``a`` you will see the value of ``a`` (this is equivalent to ``print a``):\n",
    "\n",
    "    >>> a = 1\n",
    "    >>> a\n",
    "    1\n",
    "\n",
    "The Python shell can execute any Python code, even multi-line statements, though it is often more convenient to use Python non-interactively for such cases.\n",
    "\n",
    "The default Python shell is limited, and IPython (\"interactive Python\") is a useful add-on that adds many features, including the ability to edit and navigate the history of previous commands, as well as the ability to tab-complete variable and function names. To start up IPython, type:\n",
    "\n",
    "    $ ipython\n",
    "    Python 3.7.3 (default, Jan 22 2021, 20:04:44) \n",
    "    Type 'copyright', 'credits' or 'license' for more information\n",
    "    IPython 7.12.0 -- An enhanced Interactive Python. Type '?' for help.\n",
    "\n",
    "    In [1]:\n",
    "\n",
    "Inputs and outputs are prepended by ``In [x]`` and ``Out [x]``, respectively. If we now type the same commands as before, we get:\n",
    "\n",
    "    In [1]: a = 1\n",
    "\n",
    "    In [2]: a\n",
    "    Out[2]: 1\n",
    "\n",
    "If you now type the up arrow twice, you will get back to ``a = 1``.\n",
    "\n",
    "To exit the Python shell at any time and return to the command prompt of the terminal, type ``exit()``."
   ]
  },
  {
   "cell_type": "markdown",
   "metadata": {},
   "source": [
    "### 2. Stand-alone python scripts"
   ]
  },
  {
   "cell_type": "markdown",
   "metadata": {},
   "source": [
    "Complex programs (and homework assignments) should be saved as a 'python script', which is simply a text file with a `.py` extension.\n",
    "\n",
    "As you work on, and keep changing this program, you can re-run it over and over again, until it works as desired.\n",
    "\n",
    "For example, create a new file called `myscript.py` and add the following lines:\n",
    "\n",
    "    x = 5\n",
    "    print('Twice x is:')\n",
    "    print(x*2)\n",
    "  \n",
    "Then we can run this script in two ways:\n",
    "\n",
    "1. At the terminal, type `python myscript.py`. This will start python, run your script, and then exit.\n",
    "2. Within an ipython session, type `run myscript`. This will run the script within the interpreter."
   ]
  },
  {
   "cell_type": "markdown",
   "metadata": {},
   "source": [
    "### 3. Jupyter notebooks"
   ]
  },
  {
   "cell_type": "markdown",
   "metadata": {},
   "source": [
    "A \"notebook\", as the name implies, is a nice way to keep track of your work. It is meant to contain **three things**: the code itself, the output of the executed code, and normal text.\n",
    "The document we are reading right now is a notebook.\n",
    "It is fully interactive.\n",
    "\n",
    "* Double-click a \"cell\" to edit it.\n",
    "* Shift-enter to \"run\" a cell.\n",
    "* Switch a cell between \"code\" and \"Markdown\" (text) using the menu at the top.\n",
    "* Drag cells with the mouse to re-arrange.\n",
    "* Keyboard shortcuts: `a` to insert cell above, `b` to insert cell below, `m` to convert cell to markdown, `y` to convert cell to code, `dd` to delete a cell.\n",
    "\n",
    "If you have a code cell which produces output, this will be shown in the notebook:"
   ]
  },
  {
   "cell_type": "code",
   "execution_count": null,
   "metadata": {},
   "outputs": [],
   "source": [
    "x = 5\n",
    "print(x*2)"
   ]
  },
  {
   "cell_type": "markdown",
   "metadata": {},
   "source": [
    "Normal text can use the [Markdown syntax](https://www.markdownguide.org/basic-syntax/) for making headers, bullet point lists, bold text, and so on.\n",
    "\n",
    "You can also add mathematical expressions using [Latex](https://en.wikibooks.org/wiki/LaTeX/Mathematics), such as $x^2 = \\sqrt(y) + \\Sigma_0$.\n",
    "\n",
    "You can also have images in a notebook:"
   ]
  },
  {
   "cell_type": "code",
   "execution_count": null,
   "metadata": {},
   "outputs": [],
   "source": [
    "from IPython import display\n",
    "display.Image(\"images/jupyterlab_overview.png\")"
   ]
  },
  {
   "cell_type": "markdown",
   "metadata": {},
   "source": [
    "Here we show an overview of how JupyterLab, and notebooks, work. Keep in mind that your web browser is connected to a \"server\", which can either by the service hosted by KIP, or simply running on your local machine. All files, including scripts, notebooks, and data, exist on that server and are read by the server process. When you open a notebook and run python code in it, a \"kernel\" is started in the background, and this is simply a python process, which receieves requests to run python code, and delivers the output back to the server, which then passes it on to you, via the browser."
   ]
  },
  {
   "cell_type": "markdown",
   "metadata": {},
   "source": [
    "A few important notes about using notebooks:\n",
    "\n",
    "* Save often! There is an auto-save in the notebook, but better to also save explicitly from time to time. (`Ctrl+S`)\n",
    "* The \"kernel\" remembers all previously run commands, until it is stopped, or restarted. It can become confusing which cells have been run, i.e. which variables exist, and what values they might have.\n",
    "* You can always select **Kernel -> Restart** from the menu bar to start fresh. Similarly, you can select **Run -> Run All Cells** to run all code cells, in order, from top to bottom.\n",
    "\n",
    "(This is how homework submitted as notebooks will be checked, so make sure it works!)"
   ]
  },
  {
   "cell_type": "markdown",
   "metadata": {},
   "source": [
    "### Python 2 vs 3"
   ]
  },
  {
   "cell_type": "markdown",
   "metadata": {},
   "source": [
    "\"Python 2\" refers to older version of the language, but as of 2020 all modern Python has switched to \"Python 3\".\n",
    "\n",
    "If you ever see a command like `print x*2` instead of `print(x*2)`, i.e. missing the parenthesis, you know you are looking at Python 2 code, and should google how to convert it to Python 3, and some of the important cautions."
   ]
  },
  {
   "cell_type": "markdown",
   "metadata": {},
   "source": [
    "# [1] Variables: using Python as a calculator\n",
    "## Numbers"
   ]
  },
  {
   "cell_type": "markdown",
   "metadata": {},
   "source": [
    "Comments in Python start with the hash character, `#`, and extend to the end of the physical line. A comment may appear at the start of a line or following whitespace or code:"
   ]
  },
  {
   "cell_type": "code",
   "execution_count": null,
   "metadata": {},
   "outputs": [],
   "source": [
    "# this is the first comment\n",
    "var = 1  # and this is the second comment\n",
    "         # ... and now a third!"
   ]
  },
  {
   "cell_type": "markdown",
   "metadata": {},
   "source": [
    "Let’s try some simple Python commands. The interpreter acts as a simple calculator: you can type an expression at it and it will print the value. \n",
    "\n",
    "Math syntax is straightforward: the operators `+`, `-`, `*` and `/` work as you expect, and parentheses `()` can be used for grouping operations. For example:"
   ]
  },
  {
   "cell_type": "code",
   "execution_count": null,
   "metadata": {},
   "outputs": [],
   "source": [
    "2 + 3"
   ]
  },
  {
   "cell_type": "code",
   "execution_count": null,
   "metadata": {},
   "outputs": [],
   "source": [
    "50 - 2*5"
   ]
  },
  {
   "cell_type": "code",
   "execution_count": null,
   "metadata": {},
   "outputs": [],
   "source": [
    "(50 - 2*5) / 4"
   ]
  },
  {
   "cell_type": "code",
   "execution_count": null,
   "metadata": {},
   "outputs": [],
   "source": [
    "8 / 5  # division always returns a floating point number"
   ]
  },
  {
   "cell_type": "markdown",
   "metadata": {},
   "source": [
    "The integer numbers (e.g. 2, 4, 20) have type `int`, the ones with a fractional part (e.g. 5.0, 1.6) have type `float`.\n",
    "\n",
    "Division (`/`) always returns a float. You can force integer division, rounding down, with `//`, and can get the remainder (modulus) with `%`."
   ]
  },
  {
   "cell_type": "code",
   "execution_count": null,
   "metadata": {},
   "outputs": [],
   "source": [
    "17 / 4  # classic division returns a float"
   ]
  },
  {
   "cell_type": "code",
   "execution_count": null,
   "metadata": {},
   "outputs": [],
   "source": [
    "17 // 4"
   ]
  },
  {
   "cell_type": "code",
   "execution_count": null,
   "metadata": {},
   "outputs": [],
   "source": [
    "17 % 4"
   ]
  },
  {
   "cell_type": "markdown",
   "metadata": {},
   "source": [
    "Be **careful**: powers (exponents) are calculated with `**`, instead of `^` as in some other languages:"
   ]
  },
  {
   "cell_type": "code",
   "execution_count": null,
   "metadata": {},
   "outputs": [],
   "source": [
    "2**3"
   ]
  },
  {
   "cell_type": "markdown",
   "metadata": {},
   "source": [
    "The equal sign (`=`) is used to assign a value to a variable. Afterwards, no result is displayed before the next interactive prompt:"
   ]
  },
  {
   "cell_type": "code",
   "execution_count": null,
   "metadata": {},
   "outputs": [],
   "source": [
    "width = 20\n",
    "height = 5 * 9"
   ]
  },
  {
   "cell_type": "code",
   "execution_count": null,
   "metadata": {},
   "outputs": [],
   "source": [
    "width * height"
   ]
  },
  {
   "cell_type": "markdown",
   "metadata": {},
   "source": [
    "If a variable is not “defined” (assigned a value), trying to use it will give you an error:"
   ]
  },
  {
   "cell_type": "code",
   "execution_count": null,
   "metadata": {},
   "outputs": [],
   "source": [
    "y"
   ]
  },
  {
   "cell_type": "markdown",
   "metadata": {},
   "source": [
    "In addition to `int` and `float`, another basic datatype is `complex`:"
   ]
  },
  {
   "cell_type": "code",
   "execution_count": null,
   "metadata": {},
   "outputs": [],
   "source": [
    "d = complex(4, -1)"
   ]
  },
  {
   "cell_type": "code",
   "execution_count": null,
   "metadata": {},
   "outputs": [],
   "source": [
    "d*2"
   ]
  },
  {
   "cell_type": "markdown",
   "metadata": {
    "tags": []
   },
   "source": [
    "### Exercise"
   ]
  },
  {
   "cell_type": "markdown",
   "metadata": {
    "tags": []
   },
   "source": [
    "Calculate $4^3$, $2+3.4^2$, and $(1 + i)^2$. What is the type of the output in each case, and does it make sense?"
   ]
  },
  {
   "cell_type": "markdown",
   "metadata": {},
   "source": [
    "## Strings"
   ]
  },
  {
   "cell_type": "markdown",
   "metadata": {},
   "source": [
    "Besides numbers, Python can also manipulate strings, which can be expressed in several ways. They can be enclosed in single quotes (`'...'`) or double quotes (`\"...\"`), which are identical."
   ]
  },
  {
   "cell_type": "code",
   "execution_count": null,
   "metadata": {},
   "outputs": [],
   "source": [
    "'just a test'  # single quotes"
   ]
  },
  {
   "cell_type": "code",
   "execution_count": null,
   "metadata": {},
   "outputs": [],
   "source": [
    "'it's just a test'"
   ]
  },
  {
   "cell_type": "code",
   "execution_count": null,
   "metadata": {},
   "outputs": [],
   "source": [
    "'it\\'s just a test' # can use a backslash (\\) to \"escape\" a quote character"
   ]
  },
  {
   "cell_type": "code",
   "execution_count": null,
   "metadata": {},
   "outputs": [],
   "source": [
    "'he once said \"not today\"' # or use the other kind of quotes to define the string"
   ]
  },
  {
   "cell_type": "markdown",
   "metadata": {},
   "source": [
    "It's good to get into the habit of using the `print()` function, which you will need to use inside actual scripts:"
   ]
  },
  {
   "cell_type": "code",
   "execution_count": null,
   "metadata": {},
   "outputs": [],
   "source": [
    "print('hi there')"
   ]
  },
  {
   "cell_type": "code",
   "execution_count": null,
   "metadata": {},
   "outputs": [],
   "source": [
    "print('the first line\\nand the second line') # use the \"\\n\" special character to create a newline"
   ]
  },
  {
   "cell_type": "markdown",
   "metadata": {},
   "source": [
    "Python allows very easy, and intuitive, manipulating of strings:"
   ]
  },
  {
   "cell_type": "code",
   "execution_count": null,
   "metadata": {},
   "outputs": [],
   "source": [
    "'one' + 'two'"
   ]
  },
  {
   "cell_type": "code",
   "execution_count": null,
   "metadata": {},
   "outputs": [],
   "source": [
    "3 * 'a' + 'b' + 2*'c'"
   ]
  },
  {
   "cell_type": "code",
   "execution_count": null,
   "metadata": {},
   "outputs": [],
   "source": [
    "my_word = 'excellent'"
   ]
  },
  {
   "cell_type": "code",
   "execution_count": null,
   "metadata": {},
   "outputs": [],
   "source": [
    "print('definitely ' + my_word)"
   ]
  },
  {
   "cell_type": "markdown",
   "metadata": {},
   "source": [
    "### Indexing and Slicing (Strings)"
   ]
  },
  {
   "cell_type": "markdown",
   "metadata": {},
   "source": [
    "You can extract single letters from strings, substrings (pieces of a string), and so on, using \"indexing\" and \"slicing\"."
   ]
  },
  {
   "cell_type": "code",
   "execution_count": null,
   "metadata": {},
   "outputs": [],
   "source": [
    "my_word[0]"
   ]
  },
  {
   "cell_type": "code",
   "execution_count": null,
   "metadata": {},
   "outputs": [],
   "source": [
    "my_word[0:3]"
   ]
  },
  {
   "cell_type": "code",
   "execution_count": null,
   "metadata": {},
   "outputs": [],
   "source": [
    "my_word[-1]"
   ]
  },
  {
   "cell_type": "code",
   "execution_count": null,
   "metadata": {},
   "outputs": [],
   "source": [
    "my_word[-4:]"
   ]
  },
  {
   "cell_type": "markdown",
   "metadata": {},
   "source": [
    "> Note! Python is a **zero-based indexing** language, meaning that indices start with `0` and not `1`!\n",
    "\n",
    "Attempting to use an index that is too large will result in an error. However, out of range slice indexes are handled gracefully when used for slicing. This can lead to hard to find bugs, be careful."
   ]
  },
  {
   "cell_type": "code",
   "execution_count": null,
   "metadata": {},
   "outputs": [],
   "source": [
    "my_word[20]"
   ]
  },
  {
   "cell_type": "code",
   "execution_count": null,
   "metadata": {},
   "outputs": [],
   "source": [
    "my_word[5:20]"
   ]
  },
  {
   "cell_type": "markdown",
   "metadata": {},
   "source": [
    "Python strings cannot be changed — they are **immutable**. If you try to assign (change) part of a string, you will get an error:"
   ]
  },
  {
   "cell_type": "code",
   "execution_count": null,
   "metadata": {},
   "outputs": [],
   "source": [
    "my_word[0] = 'E'"
   ]
  },
  {
   "cell_type": "markdown",
   "metadata": {},
   "source": [
    "If you need a different string, you should create a new one:"
   ]
  },
  {
   "cell_type": "code",
   "execution_count": null,
   "metadata": {},
   "outputs": [],
   "source": [
    "new_word = 'E' + my_word[1:]\n",
    "print(new_word)"
   ]
  },
  {
   "cell_type": "markdown",
   "metadata": {},
   "source": [
    "## Helper functions (strings)"
   ]
  },
  {
   "cell_type": "markdown",
   "metadata": {},
   "source": [
    "The built-in function `len()` returns the length of a string:"
   ]
  },
  {
   "cell_type": "code",
   "execution_count": null,
   "metadata": {},
   "outputs": [],
   "source": [
    "len(new_word)"
   ]
  },
  {
   "cell_type": "markdown",
   "metadata": {
    "slideshow": {
     "slide_type": "slide"
    }
   },
   "source": [
    "There aren't many such **built-in functions** in python, you can see the [complete list and documentation](https://docs.python.org/3/library/functions.html).\n",
    "\n",
    "Finally, strings have many useful helper methods, such as:"
   ]
  },
  {
   "cell_type": "code",
   "execution_count": null,
   "metadata": {
    "slideshow": {
     "slide_type": "fragment"
    }
   },
   "outputs": [],
   "source": [
    "new_word.upper() # convert string to all uppercase"
   ]
  },
  {
   "cell_type": "code",
   "execution_count": null,
   "metadata": {
    "slideshow": {
     "slide_type": "fragment"
    }
   },
   "outputs": [],
   "source": [
    "'Here and there'.index('and') # return integer index, giving the position of the substring, assuming it exists!"
   ]
  },
  {
   "cell_type": "code",
   "execution_count": null,
   "metadata": {},
   "outputs": [],
   "source": [
    "'Here and there'.index('or')"
   ]
  },
  {
   "cell_type": "code",
   "execution_count": null,
   "metadata": {},
   "outputs": [],
   "source": [
    "'or' in 'Here and there'"
   ]
  },
  {
   "cell_type": "code",
   "execution_count": null,
   "metadata": {},
   "outputs": [],
   "source": [
    "'or' in new_word"
   ]
  },
  {
   "cell_type": "code",
   "execution_count": null,
   "metadata": {
    "scrolled": true,
    "slideshow": {
     "slide_type": "fragment"
    }
   },
   "outputs": [],
   "source": [
    "'Here and there'.split() # split the string into a list of substrings, using some delimiter (by default any amount of whitespace)"
   ]
  },
  {
   "cell_type": "code",
   "execution_count": null,
   "metadata": {},
   "outputs": [],
   "source": [
    "new_word.count('e') # count the number of occurences of the substring"
   ]
  },
  {
   "cell_type": "code",
   "execution_count": null,
   "metadata": {
    "tags": []
   },
   "outputs": [],
   "source": [
    "'Here and there'.replace('and','or') # replace all occurences of the first substring with the second"
   ]
  },
  {
   "cell_type": "code",
   "execution_count": null,
   "metadata": {},
   "outputs": [],
   "source": [
    "'Random and chaotic'.replace('and','or')"
   ]
  },
  {
   "cell_type": "markdown",
   "metadata": {},
   "source": [
    "### Exercise\n",
    "\n",
    "Check out the [complete list of string methods](https://docs.python.org/3/library/stdtypes.html#string-methods).\n",
    "\n",
    "> Note: a \"method\" is just a function which operates on a specific type of object, in this case a string. You call them as `string.upper()` instead of `len(string)`.\n",
    "\n",
    "How long is the word 'supercalifragilisticexpialidocious'? How many times does the letter `s` occur? Split it in half, joining the two halves with a space."
   ]
  },
  {
   "cell_type": "markdown",
   "metadata": {},
   "source": [
    "## Data types"
   ]
  },
  {
   "cell_type": "markdown",
   "metadata": {},
   "source": [
    "We have seen numbers of type `int` and `float`, as well as strings of type `str`. You can determine the type of any variable with the built-in:"
   ]
  },
  {
   "cell_type": "code",
   "execution_count": null,
   "metadata": {},
   "outputs": [],
   "source": [
    "type(s)"
   ]
  },
  {
   "cell_type": "markdown",
   "metadata": {},
   "source": [
    "Python is called a **dynamically typed** language, meaning that you do not actually need to declare the types of variables before you use them. Instead, the interpreter simply guesses. This makes it very easy to use, but can sometimes lead to trouble.\n",
    "\n",
    "> In the C language, for example, you would have to write `int x = 4;` instead of just `x = 4` to declare the variable `x` and assign it a value.\n",
    "\n",
    "If you try to combine variables of two different types, this sometimes works, and sometimes not:"
   ]
  },
  {
   "cell_type": "code",
   "execution_count": null,
   "metadata": {},
   "outputs": [],
   "source": [
    "x = 5\n",
    "y = 2.0\n",
    "x*y"
   ]
  },
  {
   "cell_type": "code",
   "execution_count": null,
   "metadata": {},
   "outputs": [],
   "source": [
    "s + x"
   ]
  },
  {
   "cell_type": "markdown",
   "metadata": {},
   "source": [
    "In these cases, you should explicitly perform **type conversion**, using the build-in functions like `str()`, `int()`, `float()`, or `bool()`."
   ]
  },
  {
   "cell_type": "code",
   "execution_count": null,
   "metadata": {},
   "outputs": [],
   "source": [
    "s + str(x)"
   ]
  },
  {
   "cell_type": "code",
   "execution_count": null,
   "metadata": {},
   "outputs": [],
   "source": [
    "float(\"1.1\") + y"
   ]
  },
  {
   "cell_type": "code",
   "execution_count": null,
   "metadata": {},
   "outputs": [],
   "source": [
    "z = True # 'True' and 'False' are reserved keywords\n",
    "type(z)"
   ]
  },
  {
   "cell_type": "markdown",
   "metadata": {},
   "source": [
    "### Exercise\n",
    "\n",
    "Add `x` and `z` together, what is the result? Why? What if `z` was instead False?"
   ]
  },
  {
   "cell_type": "markdown",
   "metadata": {},
   "source": [
    "## Data Structures: Lists and Tuples"
   ]
  },
  {
   "cell_type": "markdown",
   "metadata": {},
   "source": [
    "Python has several \"compound' data types, used to group together other values. The most versatile is the list, which can be written as a list of comma-separated values (items) between square brackets. Lists can contain items of different types, or items of all the same type."
   ]
  },
  {
   "cell_type": "code",
   "execution_count": null,
   "metadata": {},
   "outputs": [],
   "source": [
    "squares = [1, 4, 9, 16, 25]\n",
    "type(squares)"
   ]
  },
  {
   "cell_type": "markdown",
   "metadata": {},
   "source": [
    "Lists can be indexed and sliced, just like strings. They can also be concatenated (merged together) using `+`."
   ]
  },
  {
   "cell_type": "code",
   "execution_count": null,
   "metadata": {},
   "outputs": [],
   "source": [
    "squares[1]"
   ]
  },
  {
   "cell_type": "code",
   "execution_count": null,
   "metadata": {},
   "outputs": [],
   "source": [
    "squares[:-2]"
   ]
  },
  {
   "cell_type": "code",
   "execution_count": null,
   "metadata": {},
   "outputs": [],
   "source": [
    "squares + [36,49]"
   ]
  },
  {
   "cell_type": "markdown",
   "metadata": {},
   "source": [
    "Lists are **mutable**, so we can change their contents (the items they contain)."
   ]
  },
  {
   "cell_type": "code",
   "execution_count": null,
   "metadata": {},
   "outputs": [],
   "source": [
    "squares[0] = 0"
   ]
  },
  {
   "cell_type": "code",
   "execution_count": null,
   "metadata": {},
   "outputs": [],
   "source": [
    "print(squares)"
   ]
  },
  {
   "cell_type": "markdown",
   "metadata": {},
   "source": [
    "Note: slices of a list always return a new list (called a \"shallow copy\"). If you change this new list, the original remains the same."
   ]
  },
  {
   "cell_type": "code",
   "execution_count": null,
   "metadata": {},
   "outputs": [],
   "source": [
    "first_squares = squares[0:3]"
   ]
  },
  {
   "cell_type": "code",
   "execution_count": null,
   "metadata": {},
   "outputs": [],
   "source": [
    "first_squares"
   ]
  },
  {
   "cell_type": "code",
   "execution_count": null,
   "metadata": {},
   "outputs": [],
   "source": [
    "first_squares[0] = 'one'"
   ]
  },
  {
   "cell_type": "code",
   "execution_count": null,
   "metadata": {},
   "outputs": [],
   "source": [
    "first_squares"
   ]
  },
  {
   "cell_type": "code",
   "execution_count": null,
   "metadata": {},
   "outputs": [],
   "source": [
    "squares"
   ]
  },
  {
   "cell_type": "markdown",
   "metadata": {},
   "source": [
    "We can add new items to the end of the list using the `append()` method, or anywhere in the list using `insert()`."
   ]
  },
  {
   "cell_type": "code",
   "execution_count": null,
   "metadata": {},
   "outputs": [],
   "source": [
    "squares.append('thirty-six')\n",
    "print(squares)"
   ]
  },
  {
   "cell_type": "code",
   "execution_count": null,
   "metadata": {},
   "outputs": [],
   "source": [
    "squares.insert(1,'one')\n",
    "print(squares)"
   ]
  },
  {
   "cell_type": "markdown",
   "metadata": {},
   "source": [
    "Multiple elements of a list can be modified at once, by setting a slice equal to another list:"
   ]
  },
  {
   "cell_type": "code",
   "execution_count": null,
   "metadata": {},
   "outputs": [],
   "source": [
    "squares[0:3] = [0,1,4]\n",
    "print(squares)"
   ]
  },
  {
   "cell_type": "markdown",
   "metadata": {},
   "source": [
    "A list can contain anything! Even other (\"nested\") lists:"
   ]
  },
  {
   "cell_type": "code",
   "execution_count": null,
   "metadata": {},
   "outputs": [],
   "source": [
    "my_list = [1, 3, [4, 6, 'hi'], 13]"
   ]
  },
  {
   "cell_type": "code",
   "execution_count": null,
   "metadata": {},
   "outputs": [],
   "source": [
    "len(my_list)"
   ]
  },
  {
   "cell_type": "markdown",
   "metadata": {},
   "source": [
    "One common way to build up a list, for example to store a number of results, is to first create an empty list, and then append items to it one at a time:"
   ]
  },
  {
   "cell_type": "code",
   "execution_count": null,
   "metadata": {},
   "outputs": [],
   "source": [
    "results = []\n",
    "results.append('first')\n",
    "results.append('second')\n",
    "results.append('third')\n",
    "print(results)"
   ]
  },
  {
   "cell_type": "markdown",
   "metadata": {},
   "source": [
    "A **tuple** is just like a list, except it is immutable (cannot be changed). Tuples are created by a comma-separated list of values, typically within parenthesis:"
   ]
  },
  {
   "cell_type": "code",
   "execution_count": null,
   "metadata": {},
   "outputs": [],
   "source": [
    "my_tuple = (1,3,5)\n",
    "another_tuple = 2,4,6\n",
    "a_third_tuple = 55,"
   ]
  },
  {
   "cell_type": "code",
   "execution_count": null,
   "metadata": {},
   "outputs": [],
   "source": [
    "my_tuple[0]"
   ]
  },
  {
   "cell_type": "code",
   "execution_count": null,
   "metadata": {},
   "outputs": [],
   "source": [
    "my_tuple[0] = 22"
   ]
  },
  {
   "cell_type": "markdown",
   "metadata": {},
   "source": [
    "Why would you ever use a tuple instead of just a list? When you want to store a sequence of heterogeneous types, and want to make clear it shouldn't change. (Not often in practice)"
   ]
  },
  {
   "cell_type": "markdown",
   "metadata": {},
   "source": [
    "## Data Structures: Dictionaries"
   ]
  },
  {
   "cell_type": "markdown",
   "metadata": {},
   "source": [
    "Another useful data type built into Python is the dictionary. Unlike lists or tuples, which are indexed by numbers, dictionaries are indexed by **keys**, which can be anything (often strings or numbers).\n",
    "\n",
    "It is best to think of a dictionary as a set of **key:value pairs**, with the requirement that the keys are unique (within one dictionary). \n",
    "\n",
    "The main operations on a dictionary are storing a value with some key and extracting the value given the key."
   ]
  },
  {
   "cell_type": "code",
   "execution_count": null,
   "metadata": {},
   "outputs": [],
   "source": [
    "ages = {'philip':22, 'sam':20, 'hannah':24}"
   ]
  },
  {
   "cell_type": "code",
   "execution_count": null,
   "metadata": {},
   "outputs": [],
   "source": [
    "len(ages)"
   ]
  },
  {
   "cell_type": "code",
   "execution_count": null,
   "metadata": {},
   "outputs": [],
   "source": [
    "ages['philip']"
   ]
  },
  {
   "cell_type": "markdown",
   "metadata": {},
   "source": [
    "It is an error to extract a value using a non-existent key."
   ]
  },
  {
   "cell_type": "code",
   "execution_count": null,
   "metadata": {},
   "outputs": [],
   "source": [
    "ages[0]"
   ]
  },
  {
   "cell_type": "markdown",
   "metadata": {},
   "source": [
    "What keys are in the dictionary?"
   ]
  },
  {
   "cell_type": "code",
   "execution_count": null,
   "metadata": {},
   "outputs": [],
   "source": [
    "ages.keys()"
   ]
  },
  {
   "cell_type": "markdown",
   "metadata": {},
   "source": [
    "Entries can be added by specifying a new key, and its associated value:"
   ]
  },
  {
   "cell_type": "code",
   "execution_count": null,
   "metadata": {},
   "outputs": [],
   "source": [
    "ages['sarah'] = 18\n",
    "print(ages)"
   ]
  },
  {
   "cell_type": "markdown",
   "metadata": {},
   "source": [
    "If you add a new entry using a key that is already in use, the old value is overwritten. \n",
    "\n",
    "> Note: dictionaries are **unordered**, so there is no concept of a \"first entry\" for example."
   ]
  },
  {
   "cell_type": "code",
   "execution_count": null,
   "metadata": {},
   "outputs": [],
   "source": [
    "ages['sam'] = 30\n",
    "print(ages)"
   ]
  },
  {
   "cell_type": "markdown",
   "metadata": {},
   "source": [
    "Like lists, you can create an initially empty dictionary using a pair of braces: `{}`."
   ]
  },
  {
   "cell_type": "code",
   "execution_count": null,
   "metadata": {},
   "outputs": [],
   "source": [
    "my_dict = {}"
   ]
  },
  {
   "cell_type": "markdown",
   "metadata": {},
   "source": [
    "The values of a dictionary can be any type, and they can be different types. The keys can also be any (immutable) type."
   ]
  },
  {
   "cell_type": "code",
   "execution_count": null,
   "metadata": {},
   "outputs": [],
   "source": [
    "my_dict[18] = ['sarah']\n",
    "my_dict[22] = ['sam','philip']\n",
    "print(my_dict)"
   ]
  },
  {
   "cell_type": "markdown",
   "metadata": {},
   "source": [
    "You can get a list of all the keys, or all the values, in a dictionary:"
   ]
  },
  {
   "cell_type": "code",
   "execution_count": null,
   "metadata": {},
   "outputs": [],
   "source": [
    "my_dict.keys()"
   ]
  },
  {
   "cell_type": "code",
   "execution_count": null,
   "metadata": {
    "tags": []
   },
   "outputs": [],
   "source": [
    "my_dict.values()"
   ]
  },
  {
   "cell_type": "markdown",
   "metadata": {},
   "source": [
    "### Exercise"
   ]
  },
  {
   "cell_type": "markdown",
   "metadata": {},
   "source": [
    "Make a dictionary to translate (i.e. \"map\") from all the roman numerals less than or equal to ten, into their decimal equivalents.\n",
    "\n",
    "Then use it to compute the sum of \"III\" and \"IV\"."
   ]
  },
  {
   "cell_type": "markdown",
   "metadata": {},
   "source": [
    "# [2] Control Flow"
   ]
  },
  {
   "cell_type": "markdown",
   "metadata": {},
   "source": [
    "Now that we have an overview of the most important types of variables (e.g. int, float), sequences (e.g. list, tuple), and dictionaries, we can start to actually program.\n",
    "\n",
    "\"Control flow\" is the general term for how a program can decide what to do next, based on inputs and previous calculations."
   ]
  },
  {
   "cell_type": "markdown",
   "metadata": {},
   "source": [
    "## 'if' statement"
   ]
  },
  {
   "cell_type": "markdown",
   "metadata": {
    "slideshow": {
     "slide_type": "slide"
    }
   },
   "source": [
    "The simplest form of control flow is the ``if`` statement, which executes a block of code only if a certain condition is true (and optionally executes different code otherwise). The basic syntax is:"
   ]
  },
  {
   "cell_type": "code",
   "execution_count": null,
   "metadata": {},
   "outputs": [],
   "source": [
    "if condition:\n",
    "    # do something\n",
    "elif condition:\n",
    "    # do something else\n",
    "else:\n",
    "    # do yet something else"
   ]
  },
  {
   "cell_type": "code",
   "execution_count": null,
   "metadata": {},
   "outputs": [],
   "source": []
  },
  {
   "cell_type": "markdown",
   "metadata": {},
   "source": [
    "There can be zero or more elif parts, and the else part is optional. The keyword \"elif\" is short for \"else if\", and is useful to avoid excessive indentation.\n",
    "\n",
    "Note the colon `:` after each control flow statement, and the indentation of the subsequent lines which belong to each case.\n",
    "\n",
    "> A defining characteristic of Python, as opposed to most other programming languages, is that **whitespace (indentation) matters!**\n",
    "\n",
    "In C, this would be written:"
   ]
  },
  {
   "cell_type": "code",
   "execution_count": null,
   "metadata": {},
   "outputs": [],
   "source": [
    "if(condition)\n",
    "{\n",
    "    do_something;\n",
    "}"
   ]
  },
  {
   "cell_type": "markdown",
   "metadata": {},
   "source": [
    "or equivalently:"
   ]
  },
  {
   "cell_type": "code",
   "execution_count": null,
   "metadata": {},
   "outputs": [],
   "source": [
    "if(condition) { do_something; }"
   ]
  },
  {
   "cell_type": "markdown",
   "metadata": {},
   "source": [
    "but in Python there are no brackets to indicate the beginning and ending of blocks (just like there are no semicolons `;` to indicate the ending of individual statements on a line). Instead, a block of code is specified by being indented by the same amount.\n",
    "\n",
    "> You can theoretically use either tabs or spaces, and any number of them, so long as you are consistent.\n",
    ">\n",
    "> But! Standard convention in modern Python is to **always use 4 spaces to indent a code block**.\n",
    ">\n",
    "> If you're ever unsure of style conventions, or want to make your Python code widely accepted and readable, you should consult the guide called [PEP 8](https://www.python.org/dev/peps/pep-0008/).\n",
    "\n",
    "An actual example:"
   ]
  },
  {
   "cell_type": "code",
   "execution_count": null,
   "metadata": {},
   "outputs": [],
   "source": [
    "x = 1\n",
    "\n",
    "if x < 0:\n",
    "    x = 0\n",
    "    print('Negative changed to zero')\n",
    "elif x == 0:\n",
    "    print('x is zero!')\n",
    "elif x == 1:\n",
    "    print('x is one.')\n",
    "else:\n",
    "    print('none of the previous conditions have been met.')"
   ]
  },
  {
   "cell_type": "markdown",
   "metadata": {},
   "source": [
    "> The comparisons being made between x and various numbers each return either `True` or `False` (a bool value).\n",
    ">\n",
    "> All the standard mathematical comparisons can be made:\n",
    "> * `==` (equal to, using two equals signs means comparison instead of assignment).\n",
    "> * `!=` (not equal to)\n",
    "> * `>` (greater than), `>=` (greater than or equal to)\n",
    "> * `<` (less than), `<=` (less than or equal to)\n",
    ">\n",
    "> In addition, multiple conditions can be combined using **logical operators**:\n",
    "> * `and`\n",
    "> * `or`\n",
    "> * `not`"
   ]
  },
  {
   "cell_type": "markdown",
   "metadata": {},
   "source": [
    "## Exercise"
   ]
  },
  {
   "cell_type": "markdown",
   "metadata": {},
   "source": [
    "Write a statement which evaluates if x is less than five and greater than one or less than negative one."
   ]
  },
  {
   "cell_type": "markdown",
   "metadata": {},
   "source": [
    "## 'for' loop"
   ]
  },
  {
   "cell_type": "markdown",
   "metadata": {},
   "source": [
    "A loop executes a piece of code more than once. The most common type of loop in Python is the \"for\" loop, which iterates over the items of any sequence (e.g. a list), in the order that they appear in the sequence."
   ]
  },
  {
   "cell_type": "code",
   "execution_count": null,
   "metadata": {
    "tags": []
   },
   "outputs": [],
   "source": [
    "words = ['cat', 'window', 'sun']\n",
    "for w in words:\n",
    "    print(w, len(w))"
   ]
  },
  {
   "cell_type": "markdown",
   "metadata": {},
   "source": [
    "Note: the `w` above can be given any name you want. This variable is created, and assigned to the value of each item in the list, as the loop progresses."
   ]
  },
  {
   "cell_type": "code",
   "execution_count": null,
   "metadata": {},
   "outputs": [],
   "source": [
    "for word in words:\n",
    "    print(word, len(word))"
   ]
  },
  {
   "cell_type": "markdown",
   "metadata": {},
   "source": [
    "What if you have two lists which have some relationship, and you want to loop over one, while accessing the other? \n",
    "\n",
    "You can use `enumerate(x)`, which returns a 2-tuple for each item in `x`, where the first entry is the index, and the second entry is the value."
   ]
  },
  {
   "cell_type": "code",
   "execution_count": null,
   "metadata": {},
   "outputs": [],
   "source": [
    "words = ['cat', 'window', 'sun']\n",
    "counts = [2, 6, 1]\n",
    "\n",
    "for i, word in enumerate(words):\n",
    "    print(word, counts[i])\n",
    "    counts[i] = counts[i] + 1\n",
    "    \n",
    "print(counts)"
   ]
  },
  {
   "cell_type": "markdown",
   "metadata": {},
   "source": [
    "### Exercise"
   ]
  },
  {
   "cell_type": "markdown",
   "metadata": {},
   "source": [
    "Use a for loop to take the list of words above and, for each, add its uppercase version immediately after."
   ]
  },
  {
   "cell_type": "code",
   "execution_count": null,
   "metadata": {},
   "outputs": [],
   "source": [
    "# your solution here"
   ]
  },
  {
   "cell_type": "markdown",
   "metadata": {},
   "source": [
    "Instead of enumerate you can also use `zip(x,y)`, which returns a 2-tuple for each pair of items in `x` and `y`, where the first entry is taken from `x` and the second from `y`."
   ]
  },
  {
   "cell_type": "code",
   "execution_count": null,
   "metadata": {},
   "outputs": [],
   "source": [
    "for word, count in zip(words,counts):\n",
    "    print(word, count)\n",
    "    count += 1\n",
    "\n",
    "print(counts)"
   ]
  },
  {
   "cell_type": "markdown",
   "metadata": {},
   "source": [
    "You can loop over the key:value pairs of a dictionary using `.items()`:"
   ]
  },
  {
   "cell_type": "code",
   "execution_count": null,
   "metadata": {},
   "outputs": [],
   "source": [
    "things = {'cat':2, 'window':6, 'sun':1}\n",
    "\n",
    "for key,val in things.items():\n",
    "    print(key, val)"
   ]
  },
  {
   "cell_type": "markdown",
   "metadata": {},
   "source": [
    "A common task for a for loop is to simply repeat a given code block `N` times. In this case we can use the `range(x)` helper function, which simply returns a list of integers from zero to `x`."
   ]
  },
  {
   "cell_type": "code",
   "execution_count": null,
   "metadata": {},
   "outputs": [],
   "source": [
    "for i in range(10):\n",
    "    print(i)"
   ]
  },
  {
   "cell_type": "markdown",
   "metadata": {},
   "source": [
    "Notice that `range(x)` returns exactly the list of valid indices for a list with a length of `x`. So it can also be used to loop over the items in a list:"
   ]
  },
  {
   "cell_type": "code",
   "execution_count": null,
   "metadata": {},
   "outputs": [],
   "source": [
    "for i in range(len(words)):\n",
    "    print(i, words[i])"
   ]
  },
  {
   "cell_type": "markdown",
   "metadata": {},
   "source": [
    "What if we just try printing the return of the `range()` function?"
   ]
  },
  {
   "cell_type": "code",
   "execution_count": null,
   "metadata": {},
   "outputs": [],
   "source": [
    "print(range(5))"
   ]
  },
  {
   "cell_type": "markdown",
   "metadata": {},
   "source": [
    "The return is not an actual list of numbers, but something called a **generator**. This is an object which calculates (generates) one item of the requested sequence at a time. As a result, the entire list of numbers never actually exists at one point in time (e.g. can save memory).\n",
    "\n",
    "> We can force the generator to explicitly create its entire output by creating a `list` of the result."
   ]
  },
  {
   "cell_type": "code",
   "execution_count": null,
   "metadata": {},
   "outputs": [],
   "source": [
    "x = list(range(5))\n",
    "print(x)"
   ]
  },
  {
   "cell_type": "markdown",
   "metadata": {},
   "source": [
    "You can also call `range` with two arguments, in which case they specific the start and stop values, or three arguments, specifying the start, stop, and step size."
   ]
  },
  {
   "cell_type": "code",
   "execution_count": null,
   "metadata": {},
   "outputs": [],
   "source": [
    "list(range(3,10))"
   ]
  },
  {
   "cell_type": "code",
   "execution_count": null,
   "metadata": {},
   "outputs": [],
   "source": [
    "list(range(4,16,2))"
   ]
  },
  {
   "cell_type": "markdown",
   "metadata": {
    "tags": []
   },
   "source": [
    "### Exercise"
   ]
  },
  {
   "cell_type": "markdown",
   "metadata": {
    "tags": []
   },
   "source": [
    "The [Fibonacci sequence](https://en.wikipedia.org/wiki/Fibonacci_number) is a sequence of integer numbers, defined by: an element is the sum of the previous two elements.\n",
    "\n",
    "Use a for loop to compute the first few Fibonacci numbers."
   ]
  },
  {
   "cell_type": "markdown",
   "metadata": {},
   "source": [
    "## 'while' loop"
   ]
  },
  {
   "cell_type": "markdown",
   "metadata": {},
   "source": [
    "A while loop continues so long as a given condition is satisfied. In Python, any while loop can also be written as a for loop, and for loops are more common."
   ]
  },
  {
   "cell_type": "code",
   "execution_count": null,
   "metadata": {},
   "outputs": [],
   "source": [
    "i = 0\n",
    "while i < 10:\n",
    "    print(i)\n",
    "    i += 1"
   ]
  },
  {
   "cell_type": "markdown",
   "metadata": {},
   "source": [
    "## break, continue"
   ]
  },
  {
   "cell_type": "markdown",
   "metadata": {},
   "source": [
    "Often you may want to terminate a loop early, or skip a particular iteration of a loop.\n",
    "\n",
    "The **break** statement, like in C, breaks out of the innermost enclosing for or while loop."
   ]
  },
  {
   "cell_type": "code",
   "execution_count": null,
   "metadata": {},
   "outputs": [],
   "source": [
    "for i in range(10):\n",
    "    print(i)\n",
    "    if i > 5:\n",
    "        break"
   ]
  },
  {
   "cell_type": "markdown",
   "metadata": {},
   "source": [
    "One common use of \"while\" is to make a loop where the number of iterations is not known ahead of time, and the loop should simply continue forever until some condition causes it to stop:"
   ]
  },
  {
   "cell_type": "code",
   "execution_count": null,
   "metadata": {},
   "outputs": [],
   "source": [
    "i = 0\n",
    "while True:\n",
    "    print(i)\n",
    "    i += 2\n",
    "    if i > 5:\n",
    "        break"
   ]
  },
  {
   "cell_type": "markdown",
   "metadata": {},
   "source": [
    "The **continue** statement skips the rest of the current iteration of a loop, and immediately jumps to (\"continues\" with) the next iteration:"
   ]
  },
  {
   "cell_type": "code",
   "execution_count": null,
   "metadata": {},
   "outputs": [],
   "source": [
    "for i in range(10):\n",
    "    if i % 2 == 0:\n",
    "        continue\n",
    "    print(i)"
   ]
  },
  {
   "cell_type": "markdown",
   "metadata": {
    "tags": []
   },
   "source": [
    "### Exercise"
   ]
  },
  {
   "cell_type": "markdown",
   "metadata": {},
   "source": [
    "Print out all the prime numbers (defined as being divisible only by one and themselves) below 100.\n",
    "\n",
    "> Hint: use the `%` operator, which returns the remainder of one number divided by another. If the remainder is zero, then the first number is (evenly) divisible by the second."
   ]
  },
  {
   "cell_type": "markdown",
   "metadata": {},
   "source": [
    "## 'match' statement"
   ]
  },
  {
   "cell_type": "markdown",
   "metadata": {},
   "source": [
    "A third control flow option is the match statement, which takes an expression and compares its value to successive patterns, given as one or more case blocks. \n",
    "\n",
    "This is similar to a \"switch\" statement in other languages. It can be equivalent to a long list of \"else if\" statements.\n",
    "\n",
    "The simplest form compares a variable against one or more values:"
   ]
  },
  {
   "cell_type": "code",
   "execution_count": null,
   "metadata": {},
   "outputs": [],
   "source": [
    "status = 'ok'\n",
    "\n",
    "match status:\n",
    "    case 'success' | 'ok':\n",
    "        print('good!')\n",
    "    case 'failure':\n",
    "        print('not good!')\n",
    "    case 'unclear':\n",
    "        print('also not good!')\n",
    "    case _:\n",
    "        print('we caught an unhandled value.')"
   ]
  },
  {
   "cell_type": "markdown",
   "metadata": {},
   "source": [
    "If you look at the [match documentation](https://docs.python.org/3/reference/compound_stmts.html#match), you can see this is a brand new feature, only introduced in Python 3.10. So new we can't even use it on this server!\n",
    "\n",
    "> Keep in mind one of the major complaints people have about Python: it continues to evolve, so e.g. code written using 'match' will not run on older versions of python."
   ]
  },
  {
   "cell_type": "markdown",
   "metadata": {},
   "source": [
    "# [3] Defining Functions"
   ]
  },
  {
   "cell_type": "markdown",
   "metadata": {},
   "source": [
    "A complex program can quickly become very long and unreadable. One solution is to break up long pieces of code into separate blocks, each with a clear name, purpose, start, and finish. At the same time, you may find yourself needing to re-use a piece of code, possibly as-is, or with a minor variation. Instead of copy-pasting the needed code from one part of the program to another, you can make it a piece of common functionality, which is then used in two different places. This helps to avoid repetition, which can lead to unmanageable and unmaintainable code.\n",
    "\n",
    "Functions solve both of these issues.\n",
    "\n",
    "The keyword `def` introduces a function definition. It must be followed by the function name, and a list of parameters in parenthesis.\n",
    "\n",
    "The code statements that form the body of the function start at the next line, and must be indented.\n",
    "\n",
    "> Note: The first statement of the function body can optionally be a string, called a \"docstring\", which gives a description and documentation for the function."
   ]
  },
  {
   "cell_type": "code",
   "execution_count": null,
   "metadata": {},
   "outputs": [],
   "source": [
    "def my_function(argument1, argument2):\n",
    "    \"\"\" The purpose of my_function is to compute something. \"\"\"\n",
    "    result = argument1 + argument2\n",
    "    \n",
    "    return result"
   ]
  },
  {
   "cell_type": "code",
   "execution_count": null,
   "metadata": {},
   "outputs": [],
   "source": [
    "my_function(1,3)"
   ]
  },
  {
   "cell_type": "code",
   "execution_count": null,
   "metadata": {},
   "outputs": [],
   "source": [
    "my_function('a','b')"
   ]
  },
  {
   "cell_type": "markdown",
   "metadata": {},
   "source": [
    "Keep in mind the following general concepts about functions:\n",
    "* Variables declared within the \"scope\" of the function are called \"local\". Once the function exits, they are gone.\n",
    "* If the function computes something which is going to be used, it should return that as a value.\n",
    "* A function can have no return value (just `return` by itself).\n",
    "* A function can also have multiple returns (e.g. `return result1, result2` which is really just a tuple).\n",
    "* Within a function you can access local variables, as well as external variables.\n",
    "* Common good practice: only use arguments and local variables within a function, don't rely on (or try to change) variables outside of the local scope.\n",
    "\n",
    "A common beginning mistake is to use too few functions: if a function is many screen \"pages\" long, it gets hard to understand the logic. In this case, it should be sub-divided into smaller functions. A good rule of thumb is that a function should fit on the screen at once, and should be able to understood at a glance."
   ]
  },
  {
   "cell_type": "markdown",
   "metadata": {},
   "source": [
    "## Optional arguments"
   ]
  },
  {
   "cell_type": "markdown",
   "metadata": {},
   "source": [
    "You can specify **default argument values**, which are used if that argument is not specified when calling the function:"
   ]
  },
  {
   "cell_type": "code",
   "execution_count": null,
   "metadata": {},
   "outputs": [],
   "source": [
    "def add_numbers(arg1, arg2=42):\n",
    "    \"\"\" Add the two arguments together. \"\"\"\n",
    "    result = arg1 + arg2\n",
    "    \n",
    "    return result"
   ]
  },
  {
   "cell_type": "code",
   "execution_count": null,
   "metadata": {},
   "outputs": [],
   "source": [
    "add_numbers(1,3)"
   ]
  },
  {
   "cell_type": "code",
   "execution_count": null,
   "metadata": {},
   "outputs": [],
   "source": [
    "add_numbers(1)"
   ]
  },
  {
   "cell_type": "code",
   "execution_count": null,
   "metadata": {},
   "outputs": [],
   "source": [
    "add_numbers(arg1=1, arg2=3)"
   ]
  },
  {
   "cell_type": "code",
   "execution_count": null,
   "metadata": {},
   "outputs": [],
   "source": [
    "add_numbers(arg2=3)"
   ]
  },
  {
   "cell_type": "markdown",
   "metadata": {},
   "source": [
    "If mixing optional (keyword) arguments with required (positional) arguments, keyword arguments must come after.\n",
    "\n",
    "When calling a function, the order of positional arguments matters! But, the order of keyword arguments does not matter."
   ]
  },
  {
   "cell_type": "code",
   "execution_count": null,
   "metadata": {},
   "outputs": [],
   "source": [
    "def add_and_raise_to_power(num1, num2, base=10, exp=2):\n",
    "    \"\"\" Divide num1 by num2, then add the result to the number base raised to the power of exp. \"\"\"\n",
    "    return num1/num2 + base**exp"
   ]
  },
  {
   "cell_type": "code",
   "execution_count": null,
   "metadata": {},
   "outputs": [],
   "source": [
    "add_and_raise_to_power(10, 1, base=10, exp=3)"
   ]
  },
  {
   "cell_type": "code",
   "execution_count": null,
   "metadata": {},
   "outputs": [],
   "source": [
    "add_and_raise_to_power(10, 1, exp=3, base=10)"
   ]
  },
  {
   "cell_type": "code",
   "execution_count": null,
   "metadata": {},
   "outputs": [],
   "source": [
    "add_and_raise_to_power(1, 10, exp=3, base=10)"
   ]
  },
  {
   "cell_type": "markdown",
   "metadata": {},
   "source": [
    "### Exercise"
   ]
  },
  {
   "cell_type": "markdown",
   "metadata": {},
   "source": [
    "The [Leibniz formula for $\\pi$](https://en.wikipedia.org/wiki/Leibniz_formula_for_%CF%80) states that:\n",
    "$ \\pi / 4 = 1 - \\frac{1}{3} + \\frac{1}{5} - \\frac{1}{7} + \\frac{1}{9} - \\frac{1}{11} + ... $\n",
    "\n",
    "The more terms you add in this alternating series, the closer the approximation gets to the true value of $\\pi$. Write a function which computes and returns an approximation of $\\pi$ in this way, which takes one argument as input, the number of terms to include."
   ]
  },
  {
   "cell_type": "code",
   "execution_count": null,
   "metadata": {},
   "outputs": [],
   "source": [
    "# solution here"
   ]
  },
  {
   "cell_type": "markdown",
   "metadata": {},
   "source": [
    "## Cautionary notes with functions\n",
    "\n",
    "Careful when using external (i.e. global) variables as default values, they are evaluated only once, when the function is defined!"
   ]
  },
  {
   "cell_type": "code",
   "execution_count": null,
   "metadata": {},
   "outputs": [],
   "source": [
    "default_number = 11\n",
    "\n",
    "def add_numbers(arg1, arg2=default_number):\n",
    "    \"\"\" Add the two arguments together. \"\"\"\n",
    "    result = arg1 + arg2\n",
    "    \n",
    "    return result"
   ]
  },
  {
   "cell_type": "code",
   "execution_count": null,
   "metadata": {},
   "outputs": [],
   "source": [
    "add_numbers(1)"
   ]
  },
  {
   "cell_type": "code",
   "execution_count": null,
   "metadata": {},
   "outputs": [],
   "source": [
    "default_number = 22\n",
    "add_numbers(1)"
   ]
  },
  {
   "cell_type": "markdown",
   "metadata": {},
   "source": [
    "Similarly, **don't use lists or dicts as default arguments** (or any mutable object): they are evaluated (i.e. created) only once! This can lead to unexpected behavior."
   ]
  },
  {
   "cell_type": "code",
   "execution_count": null,
   "metadata": {},
   "outputs": [],
   "source": [
    "def supplement_list(new_item, starting_list=[]):\n",
    "    \"\"\" Add the new_item to an existing starting_list, which can be input, otherwise by default starts empty. \"\"\"\n",
    "    starting_list.append(new_item)\n",
    "    return starting_list"
   ]
  },
  {
   "cell_type": "code",
   "execution_count": null,
   "metadata": {},
   "outputs": [],
   "source": [
    "supplement_list('a string', ['entry one', 'entry two'])"
   ]
  },
  {
   "cell_type": "code",
   "execution_count": null,
   "metadata": {},
   "outputs": [],
   "source": [
    "x = supplement_list('a')\n",
    "print(x)"
   ]
  },
  {
   "cell_type": "markdown",
   "metadata": {},
   "source": [
    "A few possible ways to fix this:"
   ]
  },
  {
   "cell_type": "code",
   "execution_count": null,
   "metadata": {},
   "outputs": [],
   "source": [
    "def supplement_list2(new_item, starting_list=[]):\n",
    "    # make sure to construct a new list, and leave starting_list unchanged\n",
    "    final_list = starting_list + [new_item]\n",
    "    return final_list"
   ]
  },
  {
   "cell_type": "code",
   "execution_count": null,
   "metadata": {},
   "outputs": [],
   "source": [
    "def supplement_list3(new_item, starting_list=[]):\n",
    "    # use list(), which converts a variable to a list, but also makes a copy of a list, so that the original remains unchanged\n",
    "    return list(starting_list) + [new_item]"
   ]
  },
  {
   "cell_type": "code",
   "execution_count": null,
   "metadata": {},
   "outputs": [],
   "source": [
    "def supplement_list4(new_item, starting_list=None):\n",
    "    # use the special \"None\" value in python to signify an unspecified argument\n",
    "    if starting_list is None:\n",
    "        starting_list = []\n",
    "        \n",
    "    return starting_list.append(new_item)"
   ]
  },
  {
   "cell_type": "markdown",
   "metadata": {},
   "source": [
    "In general, be careful about changing the arguments of a function. Things may not be behaving like you expect: when in doubt, check!"
   ]
  },
  {
   "cell_type": "code",
   "execution_count": null,
   "metadata": {},
   "outputs": [],
   "source": [
    "def ftest(a_number, a_list):\n",
    "    \"\"\" Check behavior when modifying arguments. (To be safe, avoid modifying arguments). \"\"\"\n",
    "    a_number += 1\n",
    "    a_list += [1]\n",
    "    return"
   ]
  },
  {
   "cell_type": "code",
   "execution_count": null,
   "metadata": {},
   "outputs": [],
   "source": [
    "x = 5\n",
    "my_list = ['a']\n",
    "\n",
    "ftest(x, my_list)\n",
    "print(x, my_list)\n",
    "\n",
    "ftest(x, my_list)\n",
    "print(x, my_list)\n",
    "\n",
    "ftest(x, my_list)\n",
    "print(x, my_list)"
   ]
  },
  {
   "cell_type": "markdown",
   "metadata": {},
   "source": [
    "## args and kwargs\n",
    "\n",
    "Functions can also accept arbitrary numbers of arguments, where the number of arguments may not be known ahead of time.\n",
    "\n",
    "For positional arguments, if you add one final argument of the form `*args`, it will be set to a tuple of all \"left-over\" values."
   ]
  },
  {
   "cell_type": "code",
   "execution_count": null,
   "metadata": {},
   "outputs": [],
   "source": [
    "def add_together(arg1, arg2, *args):\n",
    "    result = arg1 + arg2\n",
    "    print('In *args we have: ', len(args), ' leftover arguments.')\n",
    "    for arg in args:\n",
    "        result += arg\n",
    "    return result"
   ]
  },
  {
   "cell_type": "code",
   "execution_count": null,
   "metadata": {},
   "outputs": [],
   "source": [
    "add_together('a','b')"
   ]
  },
  {
   "cell_type": "code",
   "execution_count": null,
   "metadata": {},
   "outputs": [],
   "source": [
    "add_together('a','b','c','d','!')"
   ]
  },
  {
   "cell_type": "markdown",
   "metadata": {},
   "source": [
    "Similarly for keyword arguments, you can add a final argument of the form `**kwargs`, which will be set to a dictionary containing all \"left-over\" keyword arguments."
   ]
  },
  {
   "cell_type": "code",
   "execution_count": null,
   "metadata": {},
   "outputs": [],
   "source": [
    "def combine_strings(base, repeat_factor=1, **kwargs):\n",
    "    \"\"\" Create a string which starts with base, and then includes each keyword argument name and value, repeated repeat_factor times. \"\"\"\n",
    "    result = base\n",
    "    \n",
    "    # loop over each item in the kwargs dictionary\n",
    "    for key,val in kwargs.items():\n",
    "        # create a string which looks like \"key=val\", and repeat it N times, comma separated\n",
    "        s = repeat_factor * (key + '=' + str(val) + ', ')\n",
    "        \n",
    "        # add this string into our final result string\n",
    "        result += s\n",
    "        \n",
    "    return result[:-2]"
   ]
  },
  {
   "cell_type": "code",
   "execution_count": null,
   "metadata": {},
   "outputs": [],
   "source": [
    "combine_strings(\"let's go: \", 2, arg3=44, my_arg='hi')"
   ]
  },
  {
   "cell_type": "markdown",
   "metadata": {},
   "source": [
    "Note that the names \"args\" and \"kwargs\" are simply common convention: you can actually name these arguments anything.\n",
    "\n",
    "In general:\n",
    "* Use positional arguments if you want the names of the parameters to not be available to the user. This is useful when parameter names have no real meaning, if you want to enforce the order of the arguments when the function is called or if you need to take some positional parameters and arbitrary keywords.\n",
    "* Use keyword arguments when names have meaning, and the function definition is more understandable by being explicit with names or you want to prevent users relying on the position of the argument being passed."
   ]
  },
  {
   "cell_type": "markdown",
   "metadata": {},
   "source": [
    "## Function (Type) Annotations"
   ]
  },
  {
   "cell_type": "markdown",
   "metadata": {},
   "source": [
    "We said above that Python is a \"dynamically typed\" language, meaning that you do need to generally specify the types of variables.\n",
    "\n",
    "However, modern Python is moving towards having function arguments, and function returns, typed. This is optional metadata, and not required. It will, however, make your code more future-proof.\n",
    "\n",
    "An example:"
   ]
  },
  {
   "cell_type": "code",
   "execution_count": null,
   "metadata": {},
   "outputs": [],
   "source": [
    "def repeat_string(s: str, factor: int=1) -> str:\n",
    "    return s * factor"
   ]
  },
  {
   "cell_type": "code",
   "execution_count": null,
   "metadata": {},
   "outputs": [],
   "source": [
    "repeat_string('abc',3)"
   ]
  },
  {
   "cell_type": "markdown",
   "metadata": {},
   "source": [
    "### Exercise"
   ]
  },
  {
   "cell_type": "markdown",
   "metadata": {},
   "source": [
    "Write a function that computes and return the factorial $x!$ of a number `x`. For example, `5! = 5*4*3*2*1`."
   ]
  },
  {
   "cell_type": "code",
   "execution_count": null,
   "metadata": {},
   "outputs": [],
   "source": [
    "# your solution here"
   ]
  },
  {
   "cell_type": "markdown",
   "metadata": {},
   "source": [
    "### Exercise\n",
    "\n",
    "Write a function that takes an input list of numbers, and returns the mean of the values. Test it on the following input:"
   ]
  },
  {
   "cell_type": "code",
   "execution_count": null,
   "metadata": {},
   "outputs": [],
   "source": [
    "my_list = [1,3,4.0,22,8.2]\n",
    "# your solution here\n"
   ]
  },
  {
   "cell_type": "markdown",
   "metadata": {},
   "source": [
    "### Exercise\n",
    "\n",
    "Create a new function which extends the above, and accepts an optional argument specifying one or more indices. Only the entries of the input list corresponding to these indices should be used in the calculation of the mean."
   ]
  },
  {
   "cell_type": "code",
   "execution_count": null,
   "metadata": {},
   "outputs": [],
   "source": [
    "# your solution here"
   ]
  },
  {
   "cell_type": "markdown",
   "metadata": {},
   "source": [
    "<hr style=\"border:2px solid #bbb; margin: 30px 0\"> </hr>"
   ]
  },
  {
   "cell_type": "markdown",
   "metadata": {},
   "source": [
    "# Day 1 Practice Problem - Cryptography"
   ]
  },
  {
   "cell_type": "markdown",
   "metadata": {
    "tags": []
   },
   "source": [
    "Cryptography is the study of encrypting information, and conversely, how to decrypt previously encrypted information. For example, to enable secret messages to be passed between two parties.\n",
    "\n",
    "An ancient and simple encryption technique is the [Caesar Cipher](http://en.wikipedia.org/wiki/Caesar_cipher). In this cipher, each single letter is replaced by a different letter, which is a certain number of letters away in the alphabet. This is called the `shift`.\n",
    "\n",
    "For example, if the shift is -3, then D would become A, E would become B, and so on (C will become Z, i.e. the shift wraps around the end of the alphabet). A positive shift corresponds to encryption, while a negative shift (of the same value) corresponds to decryption."
   ]
  },
  {
   "cell_type": "code",
   "execution_count": null,
   "metadata": {},
   "outputs": [],
   "source": [
    "from IPython import display\n",
    "display.Image(\"images/Caesar_cipher.png\")"
   ]
  },
  {
   "cell_type": "markdown",
   "metadata": {},
   "source": [
    "### Assignment\n",
    "\n",
    "Write a function `encrypt()` that, given a string and a shift, produces the encrypted string for that shift.\n",
    "\n",
    "Then, write a second function `decrypt()` that does the opposite. Hint: The `decrypt()` function should only be one line long, because it can call the existing encryption function.\n",
    "\n",
    "### Task A\n",
    "\n",
    "Decrypt the following message, which was encrypted with a shift of 13:\n",
    "    \n",
    "    pbatenghyngvbaf lbh unir fhpprrqrq va qrpelcgvat gur fgevat\n",
    "    \n",
    "### Task B\n",
    "    \n",
    "Decrypt the following message, where the shift is unknown.\n",
    "    \n",
    "    gwc uivioml bw nqvl bpm zqopb apqnb\n",
    "    \n",
    "    \n",
    "### Hints\n",
    "\n",
    "1. Assume that we are dealing only with lowercase letters.\n",
    "2. Spaces should remain spaces.\n",
    "3. There are several ways you can convert between letters and numbers. \n",
    "    * You could use the built-in functions [chr()](https://docs.python.org/3/library/functions.html#chr) and its complement [ord()](https://docs.python.org/3/library/functions.html#ord).\n",
    "    * You could write the alphabet as a string, and use index access (e.g. `alphabet[3] == 'D'`) to convert from numbers to letters, and the `.index()` method to convert from letters to numbers."
   ]
  },
  {
   "cell_type": "markdown",
   "metadata": {},
   "source": [
    "# Solution:"
   ]
  },
  {
   "cell_type": "code",
   "execution_count": null,
   "metadata": {},
   "outputs": [],
   "source": [
    "# your solution here\n"
   ]
  },
  {
   "cell_type": "markdown",
   "metadata": {},
   "source": [
    "<hr style=\"border:2px solid #bbb; margin: 30px 0\"> </hr>"
   ]
  },
  {
   "cell_type": "markdown",
   "metadata": {},
   "source": [
    "# Day 1 Challenge Problem"
   ]
  },
  {
   "cell_type": "markdown",
   "metadata": {},
   "source": [
    "In the game of chess, the queen is the most powerful piece. It can attack by moving --any-- number of spaces, and in any direction (in its current row, in its column, or diagonally). This allowed movement is shown in the left figure below.\n",
    "\n",
    "We will solve part of the [Eight queens puzzle](https://en.wikipedia.org/wiki/Eight_queens_puzzle). Here, eight queens must be placed on a standard $8 \\times 8$ chess board, such that no queen can attack another.\n",
    "\n",
    "The center figure below shows an invalid solution: two queens can attack each other diagonally. The figure on the right shows a valid solution."
   ]
  },
  {
   "cell_type": "code",
   "execution_count": null,
   "metadata": {},
   "outputs": [],
   "source": [
    "from IPython import display\n",
    "display.Image(\"images/exercise_8queens.png\")"
   ]
  },
  {
   "cell_type": "markdown",
   "metadata": {},
   "source": [
    "## Task\n",
    "\n",
    "Given a description of a chess board (the locations of the 8 queen pieces), write a function which determines whether or not it represents a valid solution to the eight queens puzzle, returning True or False, respectively.\n",
    "\n",
    "Number the rows of the board 1-8, and the columns also 1-8.\n",
    "\n",
    "Clearly, no two queens can share the same column. Therefore, start by assuming there is exactly one queen in each column. The first queen is in column \\#1, the second is in column \\#2, and so on.\n",
    "\n",
    "In this case, a configuration to test can be encoded as a list of eight numbers, giving the number of the row for each queen. The function should take such a list as input.\n",
    "\n",
    "## Hints\n",
    "\n",
    "* There are two constraints, check if each is valid.\n",
    "* The first: two queens cannot be on the same row, which is easy to check.\n",
    "* The second: two queens cannot be on the same diagonal. Note: fi two queens are on the same diagonal, the difference between their row numbers equals the difference between their column numbers."
   ]
  },
  {
   "cell_type": "markdown",
   "metadata": {},
   "source": [
    "# Solution:"
   ]
  },
  {
   "cell_type": "code",
   "execution_count": null,
   "metadata": {},
   "outputs": [],
   "source": [
    "# row numbers\n",
    "test_1 = [8,4,7,1,6,2,5,3] # center figure above (invalid)\n",
    "test_2 = [8,4,1,3,6,2,7,5] # right figure above (valid)\n",
    "\n"
   ]
  },
  {
   "cell_type": "markdown",
   "metadata": {},
   "source": [
    "# Extension\n",
    "\n",
    "Too easy? Write a function which generates new solutions to the eight queens problem."
   ]
  },
  {
   "cell_type": "code",
   "execution_count": null,
   "metadata": {},
   "outputs": [],
   "source": []
  }
 ],
 "metadata": {
  "kernelspec": {
   "display_name": "Python 3",
   "language": "python",
   "name": "python3"
  },
  "language_info": {
   "codemirror_mode": {
    "name": "ipython",
    "version": 3
   },
   "file_extension": ".py",
   "mimetype": "text/x-python",
   "name": "python",
   "nbconvert_exporter": "python",
   "pygments_lexer": "ipython3",
   "version": "3.8.5"
  }
 },
 "nbformat": 4,
 "nbformat_minor": 4
}
